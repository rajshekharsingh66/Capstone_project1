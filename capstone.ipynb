{
  "nbformat": 4,
  "nbformat_minor": 0,
  "metadata": {
    "colab": {
      "private_outputs": true,
      "provenance": [],
      "collapsed_sections": [
        "vncDsAP0Gaoa",
        "FJNUwmbgGyua",
        "w6K7xa23Elo4",
        "yQaldy8SH6Dl",
        "PH-0ReGfmX4f",
        "mDgbUHAGgjLW",
        "O_i_v8NEhb9l",
        "HhfV-JJviCcP",
        "Y3lxredqlCYt",
        "3RnN4peoiCZX",
        "x71ZqKXriCWQ",
        "7hBIi_osiCS2",
        "JlHwYmJAmNHm",
        "35m5QtbWiB9F",
        "PoPl-ycgm1ru",
        "H0kj-8xxnORC",
        "nA9Y7ga8ng1Z",
        "PBTbrJXOngz2",
        "u3PMJOP6ngxN",
        "dauF4eBmngu3",
        "bKJF3rekwFvQ",
        "MSa1f5Uengrz",
        "GF8Ens_Soomf",
        "0wOQAZs5pc--",
        "K5QZ13OEpz2H",
        "lQ7QKXXCp7Bj",
        "448CDAPjqfQr",
        "KSlN3yHqYklG",
        "t6dVpIINYklI",
        "ijmpgYnKYklI",
        "-JiQyfWJYklI",
        "EM7whBJCYoAo",
        "fge-S5ZAYoAp",
        "85gYPyotYoAp",
        "RoGjAbkUYoAp",
        "4Of9eVA-YrdM",
        "iky9q4vBYrdO",
        "F6T5p64dYrdO",
        "y-Ehk30pYrdP",
        "bamQiAODYuh1",
        "QHF8YVU7Yuh3",
        "GwzvFGzlYuh3",
        "qYpmQ266Yuh3",
        "OH-pJp9IphqM",
        "bbFf2-_FphqN",
        "_ouA3fa0phqN",
        "Seke61FWphqN",
        "PIIx-8_IphqN",
        "t27r6nlMphqO",
        "r2jJGEOYphqO",
        "b0JNsNcRphqO",
        "BZR9WyysphqO",
        "jj7wYXLtphqO",
        "eZrbJ2SmphqO",
        "rFu4xreNphqO",
        "YJ55k-q6phqO",
        "gCFgpxoyphqP",
        "OVtJsKN_phqQ",
        "lssrdh5qphqQ",
        "U2RJ9gkRphqQ",
        "1M8mcRywphqQ",
        "tgIPom80phqQ",
        "JMzcOPDDphqR",
        "x-EpHcCOp1ci",
        "X_VqEhTip1ck",
        "8zGJKyg5p1ck",
        "PVzmfK_Ep1ck",
        "n3dbpmDWp1ck",
        "ylSl6qgtp1ck",
        "ZWILFDl5p1ck",
        "M7G43BXep1ck",
        "Ag9LCva-p1cl",
        "E6MkPsBcp1cl",
        "2cELzS2fp1cl",
        "3MPXvC8up1cl",
        "NC_X3p0fY2L0",
        "UV0SzAkaZNRQ",
        "YPEH6qLeZNRQ",
        "q29F0dvdveiT",
        "EXh0U9oCveiU",
        "22aHeOlLveiV",
        "JcMwzZxoAimU",
        "8G2x9gOozGDZ",
        "gCX9965dhzqZ",
        "gIfDvo9L0UH2"
      ],
      "include_colab_link": true
    },
    "kernelspec": {
      "name": "python3",
      "display_name": "Python 3"
    },
    "language_info": {
      "name": "python"
    }
  },
  "cells": [
    {
      "cell_type": "markdown",
      "metadata": {
        "id": "view-in-github",
        "colab_type": "text"
      },
      "source": [
        "<a href=\"https://colab.research.google.com/github/rajshekharsingh66/Capstone_project1/blob/main/capstone.ipynb\" target=\"_parent\"><img src=\"https://colab.research.google.com/assets/colab-badge.svg\" alt=\"Open In Colab\"/></a>"
      ]
    },
    {
      "cell_type": "markdown",
      "source": [
        "# **Project Name**    -  Exploratory Data Analysis on dataset Global Terrorism\n",
        "\n"
      ],
      "metadata": {
        "id": "vncDsAP0Gaoa"
      }
    },
    {
      "cell_type": "markdown",
      "source": [
        "##### **Project Type**    - EDA\n",
        "##### **Contribution**    - Individual\n",
        "##### **Team Member  -** Raj shekhar singh\n"
      ],
      "metadata": {
        "id": "beRrZCGUAJYm"
      }
    },
    {
      "cell_type": "markdown",
      "source": [
        "# **Project Summary -**"
      ],
      "metadata": {
        "id": "FJNUwmbgGyua"
      }
    },
    {
      "cell_type": "markdown",
      "source": [
        "Our project delves into the intricate realm of global terrorism, aiming to extract meaningful insights from a comprehensive dataset. This dataset serves as a crucial repository of information, shedding light on the multifaceted nature of terrorist activities worldwide. To embark on this analytical journey, we first navigate through the basics: understanding what this dataset encapsulates and the tools required for our analysis.\n",
        "\n",
        "1. What this dataset is all about?\n",
        "The dataset encompasses a wide array of information, detailing terrorist incidents globally. It spans several years and provides data on the motives, methods, and impact of these activities, offering a nuanced understanding of the global terrorism landscape.\n",
        "\n",
        "2. Installation of Libraries and Dataset\n",
        "Our analysis hinges on the power of Python's data analysis stack, employing libraries such as Pandas for data manipulation, NumPy for numerical operations, and Matplotlib and Seaborn for visualizations. Additionally, we utilize the 'os' library for efficient file handling. Importantly, we load and preprocess the dataset to make it amenable to our analytical techniques.\n",
        "\n",
        "3. Basic Analysis\n",
        "We kick off our exploration with basic statistical analyses, gaining insights into the dataset's structure and dimensions. Descriptive statistics provide an initial understanding of the data's central tendencies and variations.\n",
        "\n",
        "4. Motive Behind Activities Related to Terrorism\n",
        "One of the pivotal questions we tackle involves understanding the motives driving terrorist activities. By employing sophisticated analytical methods, we unravel patterns and discern underlying motives, bringing context to seemingly disparate incidents.\n",
        "\n",
        "5. Number of Terrorist Activities Occurred in Region with Respect to Year\n",
        "A temporal analysis helps us dissect the dataset across years and regions, discerning trends and fluctuations. This analysis provides a nuanced perspective on the evolving nature of terrorism worldwide.\n",
        "\n",
        "6. Number of Terrorist Activities vs Year\n",
        "Visual representations, crafted using Matplotlib and Seaborn, elucidate the relationship between the number of terrorist activities and the passage of time. These visualizations offer compelling insights into the dataset's temporal patterns.\n",
        "\n",
        "7. Who Are the Main Targets?\n",
        "By dissecting the data, we identify primary targets of terrorist activities. This information is vital for understanding the societal, political, and economic impacts of such incidents.\n",
        "\n",
        "8. Hot Zones of Terrorism by Country and City\n",
        "Geospatial analyses pinpoint terrorism hotspots, unveiling regions and cities most affected by these activities. Visual representations overlaying maps provide a striking portrayal of these hot zones.\n",
        "\n",
        "9. What Are the Attacking Methods Used?\n",
        "Our exploration extends to the methods employed in these attacks. By categorizing and visualizing these methods, we discern patterns that offer insights into the strategies of different terrorist groups.\n",
        "\n",
        "10. Attacks vs Killed\n",
        "A critical analysis revolves around understanding the correlation between the number of attacks and the fatalities they cause. This analysis underscores the devastating impact of terrorism on human lives.\n",
        "\n",
        "11. Most Notorious Groups\n",
        "Delving deep into the dataset, we identify and analyze the most notorious terrorist groups. Understanding these groups is pivotal for global security efforts.\n",
        "\n",
        "12. Conclusion\n",
        "In conclusion, our exploratory data analysis paints a comprehensive picture of global terrorism. Through the lens of data, we uncover patterns, motives, and impacts, offering invaluable insights for policymakers, security experts, and researchers. By utilizing Python's powerful libraries, our analysis becomes not just a study in data, but a tool for informed decision-making in the realm of global security.\n",
        "\n",
        "This project showcases the profound impact of data analysis in deciphering complex phenomena, empowering us with knowledge that transcends borders and ideologies."
      ],
      "metadata": {
        "id": "F6v_1wHtG2nS"
      }
    },
    {
      "cell_type": "markdown",
      "source": [
        "# **GitHub Link -**"
      ],
      "metadata": {
        "id": "w6K7xa23Elo4"
      }
    },
    {
      "cell_type": "markdown",
      "source": [
        "- https://github.com/rajshekharsingh66/Capstone_project1"
      ],
      "metadata": {
        "id": "h1o69JH3Eqqn"
      }
    },
    {
      "cell_type": "markdown",
      "source": [
        "# **Problem Statement**\n"
      ],
      "metadata": {
        "id": "yQaldy8SH6Dl"
      }
    },
    {
      "cell_type": "markdown",
      "source": [
        "The Global Terrorism Database (GTD) is an open-source database including information on terrorist attacks around the world from 1970 through 2017. The GTD includes systematic data on domestic as well as international terrorist incidents that have occurred during this time period and now includes more than 180,000 attacks. The database is maintained by researchers at the National Consortium for the Study of Terrorism and Responses to Terrorism (START), headquartered at the University of Maryland. Explore and analyze the data to discover key findings pertaining to terrorist activities.\n",
        "\n",
        "Main Libraries to be used:\n",
        "\n",
        "* Pandas for data manipulation, aggregation\n",
        "* Matplotlib and Seaborn for visualisation and behaviour with respect to the target variable. Use at least 5 different visualisations.\n",
        "* NumPy for computationally efficient operations"
      ],
      "metadata": {
        "id": "DpeJGUA3kjGy"
      }
    },
    {
      "cell_type": "markdown",
      "source": [
        "#### **Define Your Business Objective?**"
      ],
      "metadata": {
        "id": "PH-0ReGfmX4f"
      }
    },
    {
      "cell_type": "markdown",
      "source": [
        "## Business Objective\n",
        "Terrorism involves the use of violence to instill fear within a population, but it's crucial to recognize that not all acts of violence qualify as terrorism.\n",
        "\n",
        "In my role as a security and defense analyst, I identify regions with a high incidence of terrorism and extract valuable security-related information and insights through Exploratory Data Analysis (EDA)."
      ],
      "metadata": {
        "id": "PhDvGCAqmjP1"
      }
    },
    {
      "cell_type": "markdown",
      "source": [
        "# **General Guidelines** : -  "
      ],
      "metadata": {
        "id": "mDgbUHAGgjLW"
      }
    },
    {
      "cell_type": "markdown",
      "source": [
        "1.   Well-structured, formatted, and commented code is required.\n",
        "2.   Exception Handling, Production Grade Code & Deployment Ready Code will be a plus. Those students will be awarded some additional credits.\n",
        "     \n",
        "     The additional credits will have advantages over other students during Star Student selection.\n",
        "       \n",
        "             [ Note: - Deployment Ready Code is defined as, the whole .ipynb notebook should be executable in one go\n",
        "                       without a single error logged. ]\n",
        "\n",
        "3.   Each and every logic should have proper comments.\n",
        "4. You may add as many number of charts you want. Make Sure for each and every chart the following format should be answered.\n",
        "        \n",
        "\n",
        "```\n",
        "# Chart visualization code\n",
        "```\n",
        "            \n",
        "\n",
        "*   Why did you pick the specific chart?\n",
        "*   What is/are the insight(s) found from the chart?\n",
        "* Will the gained insights help creating a positive business impact?\n",
        "Are there any insights that lead to negative growth? Justify with specific reason.\n",
        "\n",
        "5. You have to create at least 20 logical & meaningful charts having important insights.\n",
        "\n",
        "\n",
        "[ Hints : - Do the Vizualization in  a structured way while following \"UBM\" Rule.\n",
        "\n",
        "U - Univariate Analysis,\n",
        "\n",
        "B - Bivariate Analysis (Numerical - Categorical, Numerical - Numerical, Categorical - Categorical)\n",
        "\n",
        "M - Multivariate Analysis\n",
        " ]\n",
        "\n",
        "\n",
        "\n"
      ],
      "metadata": {
        "id": "ZrxVaUj-hHfC"
      }
    },
    {
      "cell_type": "markdown",
      "source": [
        "# ***Let's Begin !***"
      ],
      "metadata": {
        "id": "O_i_v8NEhb9l"
      }
    },
    {
      "cell_type": "markdown",
      "source": [
        "## ***1. Know Your Data***"
      ],
      "metadata": {
        "id": "HhfV-JJviCcP"
      }
    },
    {
      "cell_type": "markdown",
      "source": [
        "### Import Libraries"
      ],
      "metadata": {
        "id": "Y3lxredqlCYt"
      }
    },
    {
      "cell_type": "code",
      "source": [
        "# Import Libraries\n",
        "import pandas as pd\n",
        "import numpy as np\n",
        "import matplotlib.pyplot as plt\n",
        "import seaborn as sns\n",
        "import os\n",
        "import geopandas as gpd\n",
        "import plotly.express as px"
      ],
      "metadata": {
        "id": "M8Vqi-pPk-HR"
      },
      "execution_count": null,
      "outputs": []
    },
    {
      "cell_type": "markdown",
      "source": [
        "### Dataset Loading"
      ],
      "metadata": {
        "id": "3RnN4peoiCZX"
      }
    },
    {
      "cell_type": "code",
      "source": [
        "# Load Dataset\n",
        "from google.colab import drive\n",
        "drive.mount('/content/drive')\n",
        "csv_file_path = '/content/Global Terrorism Data.csv'\n",
        "\n",
        "encodings_to_try = ['utf-8', 'ISO-8859-1', 'latin1']\n",
        "\n",
        "for encoding in encodings_to_try:\n",
        "    try:\n",
        "        df = pd.read_csv(csv_file_path, encoding=encoding)\n",
        "        break  # If successful, exit the loop\n",
        "    except UnicodeDecodeError:\n",
        "        continue  # If decoding fails, try the next encoding\n"
      ],
      "metadata": {
        "id": "4CkvbW_SlZ_R"
      },
      "execution_count": null,
      "outputs": []
    },
    {
      "cell_type": "markdown",
      "source": [
        "### Dataset First View"
      ],
      "metadata": {
        "id": "x71ZqKXriCWQ"
      }
    },
    {
      "cell_type": "code",
      "source": [
        "# Dataset First Look\n",
        "df.head()"
      ],
      "metadata": {
        "id": "LWNFOSvLl09H"
      },
      "execution_count": null,
      "outputs": []
    },
    {
      "cell_type": "markdown",
      "source": [
        "### Dataset Rows & Columns count"
      ],
      "metadata": {
        "id": "7hBIi_osiCS2"
      }
    },
    {
      "cell_type": "code",
      "source": [
        "# Dataset Rows & Columns count\n",
        "print(\"Number of rows:\",df.shape[0])\n",
        "print(\"Number of columns:\",df.shape[1])"
      ],
      "metadata": {
        "id": "Kllu7SJgmLij"
      },
      "execution_count": null,
      "outputs": []
    },
    {
      "cell_type": "code",
      "source": [
        "df.shape"
      ],
      "metadata": {
        "id": "b64VbM0GIuDR"
      },
      "execution_count": null,
      "outputs": []
    },
    {
      "cell_type": "markdown",
      "source": [
        "### Dataset Information"
      ],
      "metadata": {
        "id": "JlHwYmJAmNHm"
      }
    },
    {
      "cell_type": "code",
      "source": [
        "# Dataset Info\n",
        "df.info()"
      ],
      "metadata": {
        "id": "e9hRXRi6meOf"
      },
      "execution_count": null,
      "outputs": []
    },
    {
      "cell_type": "markdown",
      "source": [
        "#### Duplicate Values"
      ],
      "metadata": {
        "id": "35m5QtbWiB9F"
      }
    },
    {
      "cell_type": "code",
      "source": [
        "# Dataset Duplicate Value Count\n",
        "dup = df.duplicated().sum()\n",
        "print(f'number of duplicated rows are {dup}')"
      ],
      "metadata": {
        "id": "1sLdpKYkmox0"
      },
      "execution_count": null,
      "outputs": []
    },
    {
      "cell_type": "markdown",
      "source": [
        "#### Missing Values/Null Values"
      ],
      "metadata": {
        "id": "PoPl-ycgm1ru"
      }
    },
    {
      "cell_type": "code",
      "source": [
        "# Missing Values/Null Values Count\n",
        "df.isnull().sum()"
      ],
      "metadata": {
        "id": "GgHWkxvamxVg"
      },
      "execution_count": null,
      "outputs": []
    },
    {
      "cell_type": "code",
      "source": [
        "# Visualizing the missing values\n",
        "null_counts = df.isnull().sum()\n",
        "\n",
        "# Plotting a bar chart\n",
        "plt.figure(figsize=(10, 6))\n",
        "sns.barplot(x=null_counts.index, y=null_counts.values, palette='viridis')\n",
        "plt.xticks(rotation=45, ha='right')  # Rotate x-axis labels for better readability\n",
        "plt.title('Null Values by Column')\n",
        "plt.xlabel('Columns')\n",
        "plt.ylabel('Null Count')\n",
        "plt.show()"
      ],
      "metadata": {
        "id": "3q5wnI3om9sJ"
      },
      "execution_count": null,
      "outputs": []
    },
    {
      "cell_type": "markdown",
      "source": [
        "### What did you know about your dataset?"
      ],
      "metadata": {
        "id": "H0kj-8xxnORC"
      }
    },
    {
      "cell_type": "markdown",
      "source": [
        "The Global Terrorism dataset comprises information on terrorist attack happened in the year span from 1970 to 2017 , encompassing 181691 entries and 135 columns. Null values are observed in the 'latitude', 'longitude' ,'Summary'  and 'Motive' columns. Additionally, there are no duplicate values in the dataset."
      ],
      "metadata": {
        "id": "gfoNAAC-nUe_"
      }
    },
    {
      "cell_type": "markdown",
      "source": [
        "## ***2. Understanding Your Variables***"
      ],
      "metadata": {
        "id": "nA9Y7ga8ng1Z"
      }
    },
    {
      "cell_type": "code",
      "source": [
        "# Dataset Columns\n",
        "df.columns"
      ],
      "metadata": {
        "id": "j7xfkqrt5Ag5"
      },
      "execution_count": null,
      "outputs": []
    },
    {
      "cell_type": "code",
      "source": [
        "# Dataset Describe\n",
        "df.describe()"
      ],
      "metadata": {
        "id": "DnOaZdaE5Q5t"
      },
      "execution_count": null,
      "outputs": []
    },
    {
      "cell_type": "markdown",
      "source": [
        "### Variables Description"
      ],
      "metadata": {
        "id": "PBTbrJXOngz2"
      }
    },
    {
      "cell_type": "markdown",
      "source": [
        "**The dataset contains movies and tv shows information (show id, type, title, director, release year, rating, duration etc.).**\n",
        "\n",
        "**Attribute Information** :\n",
        "\n",
        "**Year**: Year for the respective data row\n",
        "\n",
        "**Month**: Month for the respective data row\n",
        "\n",
        "**Day**: Day for the respective data row\n",
        "\n",
        "**Country**: Name of the country with\n",
        "\n",
        "**Region**: Region of respective attack\n",
        "\n",
        "**city**: city of respective attack\n",
        "\n",
        "**latitude**: latitude of the location\n",
        "\n",
        "**longitude**: longitude of the location\n",
        "\n",
        "**AttackType**: type of the attack\n",
        "\n",
        "**Killed**: No. of people killed in the attack\n",
        "\n",
        "**Wounded**: No. of people wounded\n",
        "\n",
        "**Summary**: Summary of the event\n",
        "\n",
        "**Group**: group of the targetCasualty\n",
        "\n",
        "**Casualty**: Total casualties of the incident"
      ],
      "metadata": {
        "id": "aJV4KIxSnxay"
      }
    },
    {
      "cell_type": "markdown",
      "source": [
        "### Check Unique Values for each variable."
      ],
      "metadata": {
        "id": "u3PMJOP6ngxN"
      }
    },
    {
      "cell_type": "code",
      "source": [
        "# Check Unique Values for each variable.\n",
        "df.nunique()"
      ],
      "metadata": {
        "id": "zms12Yq5n-jE"
      },
      "execution_count": null,
      "outputs": []
    },
    {
      "cell_type": "markdown",
      "source": [
        "## 3. ***Data Wrangling***"
      ],
      "metadata": {
        "id": "dauF4eBmngu3"
      }
    },
    {
      "cell_type": "markdown",
      "source": [
        "### Data Wrangling Code"
      ],
      "metadata": {
        "id": "bKJF3rekwFvQ"
      }
    },
    {
      "cell_type": "code",
      "source": [
        "# Write your code to make your dataset analysis ready.\n",
        "# renaming the columns\n",
        "df.rename(columns={'iyear':'Year','imonth':'Month','iday':'Day','country_txt':'Country',\n",
        "                       'region_txt':'Region','attacktype1_txt':'AttackType','target1':'Target',\n",
        "                       'nkill':'Killed','nwound':'Wounded','summary':'Summary','gname':'Group',\n",
        "                       'targtype1_txt':'Target_type','weaptype1_txt':'Weapon_type','motive':'Motive'},inplace=True)\n",
        "df=df[['Year','Month','Day','Country','Region','city','latitude','longitude','AttackType',\n",
        "               'Killed','Wounded','Target','Summary','Group','Target_type','Weapon_type','Motive']]\n",
        "\n",
        "# concatinating the columns killed and wounded\n",
        "df[\"Killed\"]=df[\"Killed\"].fillna(0)\n",
        "df[\"Wounded\"]=df[\"Wounded\"].fillna(0)\n",
        "df[\"Casualty\"]=df[\"Killed\"]+df[\"Wounded\"]\n",
        "df.head(5)"
      ],
      "metadata": {
        "id": "wk-9a2fpoLcV"
      },
      "execution_count": null,
      "outputs": []
    },
    {
      "cell_type": "markdown",
      "source": [
        "### What all manipulations have you done and insights you found?"
      ],
      "metadata": {
        "id": "MSa1f5Uengrz"
      }
    },
    {
      "cell_type": "markdown",
      "source": [
        "To make the data analysis ready i have done the following:\n",
        "\n",
        "1.Filled missing values of Killed with Not available.\n",
        "\n",
        "2.Filled missing values of Wounded with Not Known.\n",
        "\n",
        "3.Made a new column with the name Casualty by adding values of killed and wounded  \n",
        "\n",
        "4.Also renamed a bunch of columns to make it more simple to understand what the dataset is trying to say."
      ],
      "metadata": {
        "id": "LbyXE7I1olp8"
      }
    },
    {
      "cell_type": "markdown",
      "source": [
        "## ***4. Data Vizualization, Storytelling & Experimenting with charts : Understand the relationships between variables***"
      ],
      "metadata": {
        "id": "GF8Ens_Soomf"
      }
    },
    {
      "cell_type": "markdown",
      "source": [
        "#### Chart - 1\n",
        "##Which region has highest terrorirst attacks?\n"
      ],
      "metadata": {
        "id": "0wOQAZs5pc--"
      }
    },
    {
      "cell_type": "code",
      "source": [
        "# Chart - 1 visualization code\n",
        "\n",
        "plt.figure(figsize=(15, 6))  # Adjust the width and height as needed\n",
        "\n",
        "# Assuming 'df' is your DataFrame with a 'Region' column\n",
        "region_counts = df['Region'].value_counts()\n",
        "\n",
        "# Identify regions with less than 3 percent occurrence\n",
        "threshold = 3\n",
        "small_regions = region_counts[region_counts/region_counts.sum() < threshold/100].index\n",
        "\n",
        "# Replace small regions with 'Others'\n",
        "df['Region'] = df['Region'].replace(small_regions, 'Others')\n",
        "\n",
        "# Recalculate counts for the modified DataFrame\n",
        "region_counts = df['Region'].value_counts()\n",
        "\n",
        "# Create a pie chart\n",
        "plt.pie(region_counts, labels=region_counts.index, autopct='%1.1f%%', startangle=90)\n",
        "\n",
        "# Add labels and a title\n",
        "plt.axis('equal')  # Equal aspect ratio ensures that the pie chart is circular\n",
        "plt.title('Regions having highest terrorist attacks')\n",
        "\n",
        "plt.show()\n"
      ],
      "metadata": {
        "id": "7v_ESjsspbW7"
      },
      "execution_count": null,
      "outputs": []
    },
    {
      "cell_type": "markdown",
      "source": [
        "##### 1. Why did you pick the specific chart?"
      ],
      "metadata": {
        "id": "K5QZ13OEpz2H"
      }
    },
    {
      "cell_type": "markdown",
      "source": [
        "A pie chart expresses a part-to-whole relationship in your data. It's easy to explain the percentage comparison through area covered in a circle with different colors. Wherever different percentage comparison comes into action, pie chart is used frequently. So, i have used Pie Chart and which helped us to get the percentage comparison more clearly and precisely."
      ],
      "metadata": {
        "id": "XESiWehPqBRc"
      }
    },
    {
      "cell_type": "markdown",
      "source": [
        "##### 2. What is/are the insight(s) found from the chart?"
      ],
      "metadata": {
        "id": "lQ7QKXXCp7Bj"
      }
    },
    {
      "cell_type": "markdown",
      "source": [
        "Middle East and North Africa region has highest number of attacks  which is 27.8 % of the total no. of attacks"
      ],
      "metadata": {
        "id": "C_j1G7yiqdRP"
      }
    },
    {
      "cell_type": "markdown",
      "source": [
        "##### 3. Will the gained insights help creating a positive business impact?\n",
        "Are there any insights that lead to negative growth? Justify with specific reason."
      ],
      "metadata": {
        "id": "448CDAPjqfQr"
      }
    },
    {
      "cell_type": "markdown",
      "source": [
        "**Positive business impact**:\n",
        "Given the higher frequency of terrorist attacks in the Middle and East Africa region, there might be an increased demand for security services, both from governments and private entities. Security firms could find opportunities to provide risk assessment, surveillance, and other security-related services. Increased awareness of security concerns in the region could lead to opportunities for businesses involved in humanitarian aid and development. Organizations addressing social and economic issues may find opportunities to contribute positively to the affected communities.\n",
        "\n",
        "**Negative business impact**:\n",
        "The persistence of security concerns may have a negative impact on the local economy. Reduced economic activities, tourism, and foreign investments can hinder overall economic growth.\n",
        "The prevalence of terrorist attacks might discourage some businesses from entering the market or expanding their operations in the Middle and East Africa region. Concerns about security and stability could lead to hesitancy among potential investors and businesses."
      ],
      "metadata": {
        "id": "3cspy4FjqxJW"
      }
    },
    {
      "cell_type": "markdown",
      "source": [
        "#### Chart - 2\n",
        "##Which country has highest terrorirst attacks?"
      ],
      "metadata": {
        "id": "KSlN3yHqYklG"
      }
    },
    {
      "cell_type": "code",
      "source": [
        "# Filter the top 15 countries\n",
        "top_countries = df['Country'].value_counts().nlargest(15).index\n",
        "df_top_countries = df[df['Country'].isin(top_countries)]\n",
        "\n",
        "# Create the count plot\n",
        "plt.figure(figsize=(12, 6))\n",
        "sns.countplot(x='Country', data=df_top_countries, order=top_countries, palette='viridis')\n",
        "\n",
        "# Add labels and a title\n",
        "plt.xlabel('Countries')\n",
        "plt.ylabel('Sum of Occurrences')\n",
        "plt.title('Top 15 Countries with the Highest Terrorist Attacks')\n",
        "\n",
        "# Rotate x-axis labels for better readability (optional)\n",
        "plt.xticks(rotation=45, ha='right')\n",
        "\n",
        "# Show the plot\n",
        "plt.tight_layout()\n",
        "plt.show()"
      ],
      "metadata": {
        "id": "R4YgtaqtYklH"
      },
      "execution_count": null,
      "outputs": []
    },
    {
      "cell_type": "markdown",
      "source": [
        "##### 1. Why did you pick the specific chart?"
      ],
      "metadata": {
        "id": "t6dVpIINYklI"
      }
    },
    {
      "cell_type": "markdown",
      "source": [
        "Bar charts are used to compare the size or frequency of different categories or groups of data. Bar charts are useful for comparing data across different categories, and they can be used to display a large amount of data in a small space."
      ],
      "metadata": {
        "id": "5aaW0BYyYklI"
      }
    },
    {
      "cell_type": "markdown",
      "source": [
        "##### 2. What is/are the insight(s) found from the chart?"
      ],
      "metadata": {
        "id": "ijmpgYnKYklI"
      }
    },
    {
      "cell_type": "markdown",
      "source": [
        "Iraq country has highest number of attacks  followed by Pakistan, Afghanistan and even India."
      ],
      "metadata": {
        "id": "PSx9atu2YklI"
      }
    },
    {
      "cell_type": "markdown",
      "source": [
        "##### 3. Will the gained insights help creating a positive business impact?\n",
        "Are there any insights that lead to negative growth? Justify with specific reason."
      ],
      "metadata": {
        "id": "-JiQyfWJYklI"
      }
    },
    {
      "cell_type": "markdown",
      "source": [
        "**Potential Positive Business Impact**:\n",
        "\n",
        "**Security and Defense Industry Opportunities**: The prevalence of attacks in these regions may create opportunities for businesses in the security and defense industry. Companies specializing in security services, surveillance technology, and risk assessment could find a market for their products and services.\n",
        "\n",
        "**Potential Negative Business Impact**:\n",
        "\n",
        "**Operational and Supply Chain Disruptions**: Businesses with operations or supply chains in these countries may face disruptions due to security concerns. Transportation delays, increased security measures, and potential closures could impact the smooth functioning of businesses."
      ],
      "metadata": {
        "id": "BcBbebzrYklV"
      }
    },
    {
      "cell_type": "markdown",
      "source": [
        "#### Chart - 3 Which is the most weapon used by terrorirsts ?"
      ],
      "metadata": {
        "id": "EM7whBJCYoAo"
      }
    },
    {
      "cell_type": "code",
      "source": [
        "plt.figure(figsize=(10, 10))\n",
        "df['Weapon_type'] = df['Weapon_type'].replace('Vehicle (not to include vehicle-borne explosives, i.e., car or truck bombs)', 'Vehicle')\n",
        "weapon_counts = df['Weapon_type'].value_counts()\n",
        "\n",
        "# Plotting the donut chart without labels\n",
        "colors = sns.color_palette('viridis', len(weapon_counts))\n",
        "plt.pie(weapon_counts, labels=None, autopct='%1.1f%%', startangle=90, colors=colors,\n",
        "        wedgeprops=dict(width=0.4, edgecolor='w'), textprops={'fontsize': 12, 'color': 'black'},\n",
        "        shadow=True, pctdistance=0.85)\n",
        "\n",
        "# Draw a white circle in the center to create the donut effect\n",
        "center_circle = plt.Circle((0, 0), 0.60, fc='white')\n",
        "fig = plt.gcf()\n",
        "fig.gca().add_artist(center_circle)\n",
        "\n",
        "# Add labels on the side\n",
        "plt.legend(weapon_counts.index, loc='center left', bbox_to_anchor=(1, 0.5), fontsize=12)\n",
        "\n",
        "plt.axis('equal')\n",
        "plt.title('Weapons Used by Terrorists', fontsize=16, fontweight='bold')\n",
        "plt.show()"
      ],
      "metadata": {
        "id": "t6GMdE67YoAp"
      },
      "execution_count": null,
      "outputs": []
    },
    {
      "cell_type": "markdown",
      "source": [
        "##### 1. Why did you pick the specific chart?"
      ],
      "metadata": {
        "id": "fge-S5ZAYoAp"
      }
    },
    {
      "cell_type": "markdown",
      "source": [
        "Donut charts are a variation of pie charts, and they are used for similar purposes with a few key differences. donut charts are used to compare the size or frequency of different categories or groups of data. donut charts are useful for comparing data across different categories, and they can be used to display a large amount of data in a small space."
      ],
      "metadata": {
        "id": "5dBItgRVYoAp"
      }
    },
    {
      "cell_type": "markdown",
      "source": [
        "##### 2. What is/are the insight(s) found from the chart?"
      ],
      "metadata": {
        "id": "85gYPyotYoAp"
      }
    },
    {
      "cell_type": "markdown",
      "source": [
        " Explosives are the most weapon used by terrorsits ."
      ],
      "metadata": {
        "id": "4jstXR6OYoAp"
      }
    },
    {
      "cell_type": "markdown",
      "source": [
        "##### 3. Will the gained insights help creating a positive business impact?\n",
        "Are there any insights that lead to negative growth? Justify with specific reason."
      ],
      "metadata": {
        "id": "RoGjAbkUYoAp"
      }
    },
    {
      "cell_type": "markdown",
      "source": [
        "**Potential Positive Business Impact**:\n",
        "\n",
        "**Security Industry Opportunities**: The prevalence of explosives as a common weapon may create opportunities for businesses in the security industry. Companies providing explosive detection technology, security consulting, and risk management services could see increased demand.\n",
        "\n",
        "\n",
        "**Potential Negative Business Impact**:\n",
        "\n",
        "**Increased Security Costs**: Businesses, especially those operating in high-risk areas or industries, may face increased security costs. Investments in security personnel, equipment, and training to mitigate the threat of explosives could contribute to higher operational expenses."
      ],
      "metadata": {
        "id": "zfJ8IqMcYoAp"
      }
    },
    {
      "cell_type": "markdown",
      "source": [
        "#### Chart - 4   Number of terrorist activities occured in region with respect to year"
      ],
      "metadata": {
        "id": "4Of9eVA-YrdM"
      }
    },
    {
      "cell_type": "code",
      "source": [
        "# Chart - 4 visualization code\n",
        "df_grouped = df.groupby(['Year', 'Region'])['Killed'].sum().reset_index()\n",
        "\n",
        "# Set the style of the plot\n",
        "sns.set(style=\"whitegrid\")\n",
        "plt.figure(figsize=(34, 6))\n",
        "\n",
        "# Create the animated bar plot\n",
        "sns.barplot(x=\"Region\", y=\"Killed\", hue=\"Year\", data=df_grouped, palette=\"viridis\")\n",
        "\n",
        "# Customize the plot\n",
        "plt.xticks(rotation=45)\n",
        "plt.xlabel(\"Region\")\n",
        "plt.ylabel(\"Total Killed\")\n",
        "plt.title(\"Total Killed per Region Over the Years\")\n",
        "\n",
        "# Show the legend\n",
        "plt.legend(title=\"Year\")\n",
        "\n",
        "# Show the plot\n",
        "plt.tight_layout()\n",
        "plt.show() # use a bin of 1000 or 500 ."
      ],
      "metadata": {
        "id": "irlUoxc8YrdO"
      },
      "execution_count": null,
      "outputs": []
    },
    {
      "cell_type": "markdown",
      "source": [
        "##### 1. Why did you pick the specific chart?"
      ],
      "metadata": {
        "id": "iky9q4vBYrdO"
      }
    },
    {
      "cell_type": "markdown",
      "source": [
        "Bar charts are used to compare the size or frequency of different categories or groups of data. Bar charts are useful for comparing data across different categories, and they can be used to display a large amount of data in a small space."
      ],
      "metadata": {
        "id": "aJRCwT6DYrdO"
      }
    },
    {
      "cell_type": "markdown",
      "source": [
        "##### 2. What is/are the insight(s) found from the chart?"
      ],
      "metadata": {
        "id": "F6T5p64dYrdO"
      }
    },
    {
      "cell_type": "markdown",
      "source": [
        "From the analysis we can see that on 2014 the number of terrorist activities were the highest in Middle east and North Africa."
      ],
      "metadata": {
        "id": "Xx8WAJvtYrdO"
      }
    },
    {
      "cell_type": "markdown",
      "source": [
        "##### 3. Will the gained insights help creating a positive business impact?\n",
        "Are there any insights that lead to negative growth? Justify with specific reason."
      ],
      "metadata": {
        "id": "y-Ehk30pYrdP"
      }
    },
    {
      "cell_type": "markdown",
      "source": [
        "**Potential Positive Business Impact:**\n",
        "\n",
        "**Market for Resilience Solutions**: Businesses offering resilience and continuity solutions may find a market for their services. Organizations may seek assistance in developing and implementing strategies to ensure business continuity in the face of security challenges.\n",
        "\n",
        "**Potential Negative Business Impact:**\n",
        "\n",
        "**Operational Disruptions:** Businesses with existing operations in the region may face operational disruptions due to security concerns. Increased security measures, transportation delays, and potential closures could impact the smooth functioning of businesses."
      ],
      "metadata": {
        "id": "jLNxxz7MYrdP"
      }
    },
    {
      "cell_type": "markdown",
      "source": [
        "#### Chart - 5 Number of Terrorist activities vs Year"
      ],
      "metadata": {
        "id": "bamQiAODYuh1"
      }
    },
    {
      "cell_type": "code",
      "source": [
        "# Assuming 'df' is your DataFrame with a 'Year' column\n",
        "plt.subplots(figsize=(15, 6))\n",
        "sns.countplot(x='Year', data=df, palette='GnBu', edgecolor=sns.color_palette('PuBuGn_r', 7))\n",
        "plt.xticks(rotation=60)\n",
        "plt.title('Number Of Terrorist Activities Each Year')\n",
        "plt.show()  #line plot or point plot\n"
      ],
      "metadata": {
        "id": "TIJwrbroYuh3"
      },
      "execution_count": null,
      "outputs": []
    },
    {
      "cell_type": "markdown",
      "source": [
        "##### 1. Why did you pick the specific chart?"
      ],
      "metadata": {
        "id": "QHF8YVU7Yuh3"
      }
    },
    {
      "cell_type": "markdown",
      "source": [
        "A countplot is a type of data visualization that is commonly used in statistical analysis and data exploration. It is specifically used to display the counts of observations in each category of a categorical variable."
      ],
      "metadata": {
        "id": "dcxuIMRPYuh3"
      }
    },
    {
      "cell_type": "markdown",
      "source": [
        "##### 2. What is/are the insight(s) found from the chart?"
      ],
      "metadata": {
        "id": "GwzvFGzlYuh3"
      }
    },
    {
      "cell_type": "markdown",
      "source": [
        "From the analysis we can see that on 2014 the number of terrorist activities were the highest in the world."
      ],
      "metadata": {
        "id": "uyqkiB8YYuh3"
      }
    },
    {
      "cell_type": "markdown",
      "source": [
        "##### 3. Will the gained insights help creating a positive business impact?\n",
        "Are there any insights that lead to negative growth? Justify with specific reason."
      ],
      "metadata": {
        "id": "qYpmQ266Yuh3"
      }
    },
    {
      "cell_type": "markdown",
      "source": [
        "**Potential Positive Business Impact:**\n",
        "\n",
        "**Technological Innovation:** The need for advanced security measures may drive technological innovation. Businesses involved in developing cutting-edge security technologies, surveillance systems, and threat detection tools could find a global market for their products.\n",
        "\n",
        "**Potential Negative Business Impact:**\n",
        "\n",
        "**Impact on International Trade:** The global security situation may impact international trade, with potential restrictions and changes in trade patterns. Businesses involved in cross-border trade may face challenges related to increased scrutiny and regulatory changes."
      ],
      "metadata": {
        "id": "_WtzZ_hCYuh4"
      }
    },
    {
      "cell_type": "markdown",
      "source": [
        "#### Chart - 6  Who are the main targets?"
      ],
      "metadata": {
        "id": "OH-pJp9IphqM"
      }
    },
    {
      "cell_type": "code",
      "source": [
        "# Chart - 6 visualization code\n",
        "plt.figure(figsize=(34,6))\n",
        "sns.countplot(x='Target_type',data=df,order=df['Target_type'].value_counts().index )\n",
        "plt.xlabel('Targets')\n",
        "plt.ylabel('Sum of occurences')\n",
        "plt.title('Main Targets')\n",
        "\n",
        "plt.xticks(rotation = 60)# use 90 rotation\n",
        "plt.show()"
      ],
      "metadata": {
        "id": "kuRf4wtuphqN"
      },
      "execution_count": null,
      "outputs": []
    },
    {
      "cell_type": "markdown",
      "source": [
        "##### 1. Why did you pick the specific chart?"
      ],
      "metadata": {
        "id": "bbFf2-_FphqN"
      }
    },
    {
      "cell_type": "markdown",
      "source": [
        "Bar charts are used to compare the size or frequency of different categories or groups of data. Bar charts are useful for comparing data across different categories, and they can be used to display a large amount of data in a small space."
      ],
      "metadata": {
        "id": "loh7H2nzphqN"
      }
    },
    {
      "cell_type": "markdown",
      "source": [
        "##### 2. What is/are the insight(s) found from the chart?"
      ],
      "metadata": {
        "id": "_ouA3fa0phqN"
      }
    },
    {
      "cell_type": "markdown",
      "source": [
        "Private citizens and property emerge as the primary targets of terrorist activities."
      ],
      "metadata": {
        "id": "VECbqPI7phqN"
      }
    },
    {
      "cell_type": "markdown",
      "source": [
        "##### 3. Will the gained insights help creating a positive business impact?\n",
        "Are there any insights that lead to negative growth? Justify with specific reason."
      ],
      "metadata": {
        "id": "Seke61FWphqN"
      }
    },
    {
      "cell_type": "markdown",
      "source": [
        "**Potential Positive Business Impact:**\n",
        "\n",
        "**Technology and Innovation:** The need for advanced security measures may drive technological innovation. Businesses involved in developing cutting-edge security technologies, such as smart home security systems or personal safety apps, could find a market for their products.\n",
        "\n",
        "**Insurance and Risk Management Opportunities:** The heightened awareness of threats to private citizens and property may lead to increased demand for insurance and risk management services. Insurance companies and risk assessment firms may find opportunities to provide tailored solutions to individuals and businesses.\n",
        "\n",
        "**Potential Negative Business Impact:**\n",
        "\n",
        "**Increased Security Costs for Businesses:** Businesses operating in sectors that are frequently targeted may face increased security costs. Investments in security infrastructure, personnel training, and risk mitigation measures to protect private citizens and property could contribute to higher operational expenses.\n",
        "\n",
        "**Negative Impact on Tourism and Hospitality:** Regions or industries heavily dependent on tourism and hospitality may experience a decline. The perception of increased security threats to private citizens could deter travel, resulting in economic losses for businesses in these sectors."
      ],
      "metadata": {
        "id": "DW4_bGpfphqN"
      }
    },
    {
      "cell_type": "markdown",
      "source": [
        "#### Chart - 7  Hot zones of terrorism (by Country)"
      ],
      "metadata": {
        "id": "PIIx-8_IphqN"
      }
    },
    {
      "cell_type": "code",
      "source": [
        "# Chart - 7 visualization code\n",
        "# Load the world map data\n",
        "world = gpd.read_file(gpd.datasets.get_path('naturalearth_lowres'))\n",
        "\n",
        "# Assuming 'df' is your DataFrame with a 'Country' column\n",
        "# Filter the data for the top 15 affected countries\n",
        "top_countries = df['Country'].value_counts()[:100].index\n",
        "df_top_countries = df[df['Country'].isin(top_countries)]\n",
        "\n",
        "# Merge the world map with your data\n",
        "merged_df = world.merge(df_top_countries['Country'].value_counts().reset_index(),\n",
        "                        left_on='name',\n",
        "                        right_on='index',\n",
        "                        how='left')\n",
        "\n",
        "# Create a choropleth map\n",
        "fig = px.choropleth(merged_df,\n",
        "                    locations='name',\n",
        "                    locationmode='country names',\n",
        "                    color='Country',\n",
        "                    title='Top Affected Countries',\n",
        "                    color_continuous_scale='Plasma',\n",
        "                    height=600,\n",
        "                    width=1000,\n",
        "                    labels={'Country': 'Number of Occurrences'})\n",
        "\n",
        "fig.update_layout(geo=dict(showframe=False, showcoastlines=False, projection_type='natural earth'))\n",
        "\n",
        "fig.show()"
      ],
      "metadata": {
        "id": "lqAIGUfyphqO"
      },
      "execution_count": null,
      "outputs": []
    },
    {
      "cell_type": "code",
      "source": [
        "plt.subplots(figsize=(18, 6))\n",
        "sns.barplot(x=df['Country'].value_counts()[:15].index, y=df['Country'].value_counts()[:15].values, palette='plasma_r')\n",
        "plt.title('Top Affected Countries')\n",
        "plt.xticks(rotation=60)  # Rotate x-axis labels for better readability if needed\n",
        "plt.show()"
      ],
      "metadata": {
        "id": "OTDCHEc9gcUW"
      },
      "execution_count": null,
      "outputs": []
    },
    {
      "cell_type": "markdown",
      "source": [
        "##### 1. Why did you pick the specific chart?"
      ],
      "metadata": {
        "id": "t27r6nlMphqO"
      }
    },
    {
      "cell_type": "markdown",
      "source": [
        "Choropleth maps are used to visualize spatial data by shading or coloring geographic regions based on the intensity of a particular variable. They are particularly useful when you want to show variations in data across different geographic areas, allowing you to identify patterns, trends, and hotspots.\n",
        "\n",
        "Bar charts are used to compare the size or frequency of different categories or groups of data. Bar charts are useful for comparing data across different categories, and they can be used to display a large amount of data in a small space."
      ],
      "metadata": {
        "id": "iv6ro40sphqO"
      }
    },
    {
      "cell_type": "markdown",
      "source": [
        "##### 2. What is/are the insight(s) found from the chart?"
      ],
      "metadata": {
        "id": "r2jJGEOYphqO"
      }
    },
    {
      "cell_type": "markdown",
      "source": [
        "Iraq ranks highest in the number of attacks."
      ],
      "metadata": {
        "id": "Po6ZPi4hphqO"
      }
    },
    {
      "cell_type": "markdown",
      "source": [
        "##### 3. Will the gained insights help creating a positive business impact?\n",
        "Are there any insights that lead to negative growth? Justify with specific reason."
      ],
      "metadata": {
        "id": "b0JNsNcRphqO"
      }
    },
    {
      "cell_type": "markdown",
      "source": [
        "**Potential Positive Business Impact**:\n",
        "\n",
        "**Security and Defense Industry Opportunities**: The prevalence of attacks in these regions may create opportunities for businesses in the security and defense industry. Companies specializing in security services, surveillance technology, and risk assessment could find a market for their products and services.\n",
        "\n",
        "**Potential Negative Business Impact**:\n",
        "\n",
        "**Operational and Supply Chain Disruptions**: Businesses with operations or supply chains in these countries may face disruptions due to security concerns. Transportation delays, increased security measures, and potential closures could impact the smooth functioning of businesses."
      ],
      "metadata": {
        "id": "xvSq8iUTphqO"
      }
    },
    {
      "cell_type": "markdown",
      "source": [
        "#### Chart - 8 Hot zones of terrorism (by City)"
      ],
      "metadata": {
        "id": "BZR9WyysphqO"
      }
    },
    {
      "cell_type": "code",
      "source": [
        "# Chart - 8 visualization code\n",
        "plt.subplots(figsize=(18,6))\n",
        "sns.barplot(x = df['city'].value_counts()[1:15].index,y = df['city'].value_counts()[1:15].values,palette='gnuplot2_r')\n",
        "plt.title('Top Affected Cities')\n",
        "plt.show()"
      ],
      "metadata": {
        "id": "TdPTWpAVphqO"
      },
      "execution_count": null,
      "outputs": []
    },
    {
      "cell_type": "markdown",
      "source": [
        "##### 1. Why did you pick the specific chart?"
      ],
      "metadata": {
        "id": "jj7wYXLtphqO"
      }
    },
    {
      "cell_type": "markdown",
      "source": [
        "Bar charts are used to compare the size or frequency of different categories or groups of data. Bar charts are useful for comparing data across different categories, and they can be used to display a large amount of data in a small space."
      ],
      "metadata": {
        "id": "Ob8u6rCTphqO"
      }
    },
    {
      "cell_type": "markdown",
      "source": [
        "##### 2. What is/are the insight(s) found from the chart?"
      ],
      "metadata": {
        "id": "eZrbJ2SmphqO"
      }
    },
    {
      "cell_type": "markdown",
      "source": [
        "Baghdad is the city with the highest no. of terrorist attacks."
      ],
      "metadata": {
        "id": "mZtgC_hjphqO"
      }
    },
    {
      "cell_type": "markdown",
      "source": [
        "##### 3. Will the gained insights help creating a positive business impact?\n",
        "Are there any insights that lead to negative growth? Justify with specific reason."
      ],
      "metadata": {
        "id": "rFu4xreNphqO"
      }
    },
    {
      "cell_type": "markdown",
      "source": [
        "**Potential Positive Business Impact:**\n",
        "\n",
        "**Infrastructure Development Opportunities:** Governments and private entities in Baghdad may invest in infrastructure development to enhance security measures. Construction and engineering firms specializing in security infrastructure could find business opportunities.\n",
        "\n",
        "**Potential Negative Business Impact:**\n",
        "\n",
        "**Operational Disruptions:** Businesses with operations in Baghdad may face operational disruptions due to security concerns. Increased security measures, potential closures, and the need for heightened vigilance could impact the smooth functioning of businesses."
      ],
      "metadata": {
        "id": "ey_0qi68phqO"
      }
    },
    {
      "cell_type": "markdown",
      "source": [
        "#### Chart - 9 What are the attacking methods used?"
      ],
      "metadata": {
        "id": "YJ55k-q6phqO"
      }
    },
    {
      "cell_type": "code",
      "source": [
        "# Chart - 9 visualization code\n",
        "plt.figure(figsize=(34,6))\n",
        "sns.countplot(x='AttackType',data=df,order=df['AttackType'].value_counts().index)\n",
        "plt.xlabel('Attack type')\n",
        "plt.ylabel('Sum of occurences')\n",
        "plt.title('Attacking methods used')\n",
        "\n",
        "plt.xticks(rotation = 60)\n",
        "plt.show()"
      ],
      "metadata": {
        "id": "B2aS4O1ophqO"
      },
      "execution_count": null,
      "outputs": []
    },
    {
      "cell_type": "markdown",
      "source": [
        "##### 1. Why did you pick the specific chart?"
      ],
      "metadata": {
        "id": "gCFgpxoyphqP"
      }
    },
    {
      "cell_type": "markdown",
      "source": [
        "Bar charts are used to compare the size or frequency of different categories or groups of data. Bar charts are useful for comparing data across different categories, and they can be used to display a large amount of data in a small space."
      ],
      "metadata": {
        "id": "TVxDimi2phqP"
      }
    },
    {
      "cell_type": "markdown",
      "source": [
        "##### 2. What is/are the insight(s) found from the chart?"
      ],
      "metadata": {
        "id": "OVtJsKN_phqQ"
      }
    },
    {
      "cell_type": "markdown",
      "source": [
        "Bombing and Explosion methods were most commonly used in terrorism activity."
      ],
      "metadata": {
        "id": "ngGi97qjphqQ"
      }
    },
    {
      "cell_type": "markdown",
      "source": [
        "##### 3. Will the gained insights help creating a positive business impact?\n",
        "Are there any insights that lead to negative growth? Justify with specific reason."
      ],
      "metadata": {
        "id": "lssrdh5qphqQ"
      }
    },
    {
      "cell_type": "markdown",
      "source": [
        "**Potential Positive Business Impact:**\n",
        "\n",
        "**Infrastructure Development Opportunities:** Governments and private entities may invest in infrastructure development to enhance security measures against bombings. Construction and engineering firms specializing in security infrastructure could find business opportunities.\n",
        "\n",
        "**Potential Negative Business Impact:**\n",
        "\n",
        "**Increased Security Costs:** Businesses, especially those operating in high-risk areas or industries, may face increased security costs. Investments in bomb detection technology, personnel training, and risk mitigation measures to protect against bombings and explosions could contribute to higher operational expenses."
      ],
      "metadata": {
        "id": "tBpY5ekJphqQ"
      }
    },
    {
      "cell_type": "markdown",
      "source": [
        "#### Chart - 10 Attack vs Killed"
      ],
      "metadata": {
        "id": "U2RJ9gkRphqQ"
      }
    },
    {
      "cell_type": "code",
      "source": [
        "# Chart - 10 visualization code\n",
        "coun_terror=df['Country'].value_counts()[:15].to_frame()\n",
        "coun_terror.columns=['Attacks']\n",
        "coun_kill=df.groupby('Country')['Killed'].sum().to_frame()\n",
        "coun_terror.merge(coun_kill,left_index=True,right_index=True,how='left').plot.bar(width=0.9)\n",
        "fig=plt.gcf()\n",
        "fig.set_size_inches(18,6)\n",
        "plt.show()"
      ],
      "metadata": {
        "id": "GM7a4YP4phqQ"
      },
      "execution_count": null,
      "outputs": []
    },
    {
      "cell_type": "markdown",
      "source": [
        "##### 1. Why did you pick the specific chart?"
      ],
      "metadata": {
        "id": "1M8mcRywphqQ"
      }
    },
    {
      "cell_type": "markdown",
      "source": [
        "Grouped bar charts are used in data visualization for several reasons, providing a way to represent and compare multiple categories or groups across different subcategories."
      ],
      "metadata": {
        "id": "8agQvks0phqQ"
      }
    },
    {
      "cell_type": "markdown",
      "source": [
        "##### 2. What is/are the insight(s) found from the chart?"
      ],
      "metadata": {
        "id": "tgIPom80phqQ"
      }
    },
    {
      "cell_type": "markdown",
      "source": [
        "Iraq ranks highest in the number of attacks vs killed."
      ],
      "metadata": {
        "id": "Qp13pnNzphqQ"
      }
    },
    {
      "cell_type": "markdown",
      "source": [
        "##### 3. Will the gained insights help creating a positive business impact?\n",
        "Are there any insights that lead to negative growth? Justify with specific reason."
      ],
      "metadata": {
        "id": "JMzcOPDDphqR"
      }
    },
    {
      "cell_type": "markdown",
      "source": [
        "**Potential Positive Business Impact**:\n",
        "\n",
        "**Security and Defense Industry Opportunities**: The prevalence of attacks in these regions may create opportunities for businesses in the security and defense industry. Companies specializing in security services, surveillance technology, and risk assessment could find a market for their products and services.\n",
        "\n",
        "**Potential Negative Business Impact**:\n",
        "\n",
        "**Operational and Supply Chain Disruptions**: Businesses with operations or supply chains in these countries may face disruptions due to security concerns. Transportation delays, increased security measures, and potential closures could impact the smooth functioning of businesses."
      ],
      "metadata": {
        "id": "R4Ka1PC2phqR"
      }
    },
    {
      "cell_type": "markdown",
      "source": [
        "#### Chart - 11 Most Notorious Groups"
      ],
      "metadata": {
        "id": "x-EpHcCOp1ci"
      }
    },
    {
      "cell_type": "code",
      "source": [
        "# Chart - 11 visualization code\n",
        "plt.figure(figsize=(16, 6))\n",
        "sns.barplot(x=df['Group'].value_counts()[1:15].values, y=df['Group'].value_counts()[1:15].index, orient='horizontal')\n",
        "plt.xlabel('Sum of occurrences')\n",
        "plt.ylabel('Group')\n",
        "plt.title('Most Notorious Groups')\n",
        "plt.show()"
      ],
      "metadata": {
        "id": "mAQTIvtqp1cj"
      },
      "execution_count": null,
      "outputs": []
    },
    {
      "cell_type": "markdown",
      "source": [
        "##### 1. Why did you pick the specific chart?"
      ],
      "metadata": {
        "id": "X_VqEhTip1ck"
      }
    },
    {
      "cell_type": "markdown",
      "source": [
        "Bar charts are used to compare the size or frequency of different categories or groups of data. Bar charts are useful for comparing data across different categories, and they can be used to display a large amount of data in a small space."
      ],
      "metadata": {
        "id": "-vsMzt_np1ck"
      }
    },
    {
      "cell_type": "markdown",
      "source": [
        "##### 2. What is/are the insight(s) found from the chart?"
      ],
      "metadata": {
        "id": "8zGJKyg5p1ck"
      }
    },
    {
      "cell_type": "markdown",
      "source": [
        "Taliban is most Notorious group with highest number of terrorist activities."
      ],
      "metadata": {
        "id": "ZYdMsrqVp1ck"
      }
    },
    {
      "cell_type": "markdown",
      "source": [
        "##### 3. Will the gained insights help creating a positive business impact?\n",
        "Are there any insights that lead to negative growth? Justify with specific reason."
      ],
      "metadata": {
        "id": "PVzmfK_Ep1ck"
      }
    },
    {
      "cell_type": "markdown",
      "source": [
        "**Potential Positive Business Impact:**\n",
        "\n",
        "**Increased Demand for Security Services:** The prominence of the Taliban as a notorious group may lead to an increased demand for security services. Businesses in the security industry, offering services such as risk assessment, threat analysis, and crisis management, could find growth opportunities.\n",
        "\n",
        "**Potential Negative Business Impact:**\n",
        "\n",
        "**Operational Disruptions in High-Risk Regions:** Businesses operating in regions where the Taliban is active may face operational disruptions. Security concerns, potential closures, and the need for heightened vigilance could impact the smooth functioning of businesses in these areas."
      ],
      "metadata": {
        "id": "druuKYZpp1ck"
      }
    },
    {
      "cell_type": "markdown",
      "source": [
        "#### Chart - 12 Activity of Top Terrorist Groups"
      ],
      "metadata": {
        "id": "n3dbpmDWp1ck"
      }
    },
    {
      "cell_type": "code",
      "source": [
        "# Chart - 12 visualization code\n",
        "top_groups10=df[df['Group'].isin(df['Group'].value_counts()[1:11].index)]\n",
        "pd.crosstab(top_groups10.Year,top_groups10.Group).plot(color=sns.color_palette('magma',10))\n",
        "fig=plt.gcf()\n",
        "fig.set_size_inches(18,6)\n",
        "plt.show()"
      ],
      "metadata": {
        "id": "bwevp1tKp1ck"
      },
      "execution_count": null,
      "outputs": []
    },
    {
      "cell_type": "markdown",
      "source": [
        "##### 1. Why did you pick the specific chart?"
      ],
      "metadata": {
        "id": "ylSl6qgtp1ck"
      }
    },
    {
      "cell_type": "markdown",
      "source": [
        "Stacked area charts are used to visualize the composition of a whole over time or across different categories. They are particularly useful when you want to show the changing proportions of multiple components within a total while highlighting their individual contributions."
      ],
      "metadata": {
        "id": "m2xqNkiQp1ck"
      }
    },
    {
      "cell_type": "markdown",
      "source": [
        "##### 2. What is/are the insight(s) found from the chart?"
      ],
      "metadata": {
        "id": "ZWILFDl5p1ck"
      }
    },
    {
      "cell_type": "markdown",
      "source": [
        "Taliban is most Notorious group with highest number of terrorist activities."
      ],
      "metadata": {
        "id": "x-lUsV2mp1ck"
      }
    },
    {
      "cell_type": "markdown",
      "source": [
        "##### 3. Will the gained insights help creating a positive business impact?\n",
        "Are there any insights that lead to negative growth? Justify with specific reason."
      ],
      "metadata": {
        "id": "M7G43BXep1ck"
      }
    },
    {
      "cell_type": "markdown",
      "source": [
        "**Potential Positive Business Impact:**\n",
        "\n",
        "**Increased Demand for Security Services:** The prominence of the Taliban as a notorious group may lead to an increased demand for security services. Businesses in the security industry, offering services such as risk assessment, threat analysis, and crisis management, could find growth opportunities.\n",
        "\n",
        "**Potential Negative Business Impact:**\n",
        "\n",
        "**Operational Disruptions in High-Risk Regions:** Businesses operating in regions where the Taliban is active may face operational disruptions. Security concerns, potential closures, and the need for heightened vigilance could impact the smooth functioning of businesses in these areas."
      ],
      "metadata": {
        "id": "5wwDJXsLp1cl"
      }
    },
    {
      "cell_type": "markdown",
      "source": [
        "#### Chart - 13 - Correlation Heatmap"
      ],
      "metadata": {
        "id": "NC_X3p0fY2L0"
      }
    },
    {
      "cell_type": "code",
      "source": [
        "# Correlation Heatmap visualization code\n",
        "corr_matrix = df.corr()\n",
        "\n",
        "# Plot Heatmap\n",
        "plt.figure(figsize=(15,8))\n",
        "sns.heatmap(corr_matrix, annot=True, cmap='Reds_r')\n",
        "\n",
        "# Setting Labels\n",
        "plt.title('Correlation Matrix heatmap')\n",
        "\n",
        "# Display Chart\n",
        "plt.show()"
      ],
      "metadata": {
        "id": "xyC9zolEZNRQ"
      },
      "execution_count": null,
      "outputs": []
    },
    {
      "cell_type": "markdown",
      "source": [
        "##### 1. Why did you pick the specific chart?"
      ],
      "metadata": {
        "id": "UV0SzAkaZNRQ"
      }
    },
    {
      "cell_type": "markdown",
      "source": [
        "The correlation coefficient is a measure of the strength and direction of a linear relationship between two variables. A correlation matrix is used to summarize the relationships among a set of variables and is an important tool for data exploration and for selecting which variables to include in a model. The range of correlation is [-1,1].\n",
        "\n",
        "Thus to know the correlation between all the variables along with the correlation coeficients, we have used correlation heatmap."
      ],
      "metadata": {
        "id": "DVPuT8LYZNRQ"
      }
    },
    {
      "cell_type": "markdown",
      "source": [
        "##### 2. What is/are the insight(s) found from the chart?"
      ],
      "metadata": {
        "id": "YPEH6qLeZNRQ"
      }
    },
    {
      "cell_type": "markdown",
      "source": [
        "Since correlation matrix gets you the correlation between two columns and their this particular heat map shows that there is a lot of correlation between Killed, Wounded and the Casualty of these terrorist attacks. The correlation value of wounded and casualty is more hence there were more wounded then killed but the correlation value of people killed and the total casualties is 0.65 which is quiet high which should be taken care off ."
      ],
      "metadata": {
        "id": "bfSqtnDqZNRR"
      }
    },
    {
      "cell_type": "markdown",
      "source": [
        "#### Chart - 14 - Pair Plot"
      ],
      "metadata": {
        "id": "q29F0dvdveiT"
      }
    },
    {
      "cell_type": "code",
      "source": [
        "# Pair Plot visualization code\n",
        "sns.pairplot(df, diag_kind=\"kde\", kind = 'reg')\n",
        "\n",
        "# Display Chart\n",
        "plt.show()"
      ],
      "metadata": {
        "id": "o58-TEIhveiU"
      },
      "execution_count": null,
      "outputs": []
    },
    {
      "cell_type": "markdown",
      "source": [
        "##### 1. Why did you pick the specific chart?"
      ],
      "metadata": {
        "id": "EXh0U9oCveiU"
      }
    },
    {
      "cell_type": "markdown",
      "source": [
        "A pairplot, also known as a scatterplot matrix, is a visualization that allows you to visualize the relationships between all pairs of variables in a dataset. It is a useful tool for data exploration because it allows you to quickly see how all of the variables in a dataset are related to one another.\n",
        "\n",
        "Thus, we used pair plot to analyse the patterns of data and relationship between the features. It's exactly same as the correlation map but here you will get the graphical representation."
      ],
      "metadata": {
        "id": "eMmPjTByveiU"
      }
    },
    {
      "cell_type": "markdown",
      "source": [
        "##### 2. What is/are the insight(s) found from the chart?"
      ],
      "metadata": {
        "id": "22aHeOlLveiV"
      }
    },
    {
      "cell_type": "markdown",
      "source": [],
      "metadata": {
        "id": "uPQ8RGwHveiV"
      }
    },
    {
      "cell_type": "markdown",
      "source": [
        "## **5. Solution to Business Objective**"
      ],
      "metadata": {
        "id": "JcMwzZxoAimU"
      }
    },
    {
      "cell_type": "markdown",
      "source": [
        "#### What do you suggest the client to achieve Business Objective ?\n",
        "Explain Briefly."
      ],
      "metadata": {
        "id": "8G2x9gOozGDZ"
      }
    },
    {
      "cell_type": "markdown",
      "source": [
        "Given the analysis and my role as a security and defense analyst, here are some suggestions for achieving the business objectives:\n",
        "\n",
        "**Enhance Regional Security Measures**:\n",
        "\n",
        "Focus on implementing and enhancing security measures in regions identified as having a high incidence of terrorism, particularly in the Middle and East Africa region.\n",
        "Collaborate with local authorities and international partners to strengthen security infrastructure and intelligence-sharing.\n",
        "\n",
        "**Improve Intelligence Gathering:**\n",
        "\n",
        "Invest in intelligence gathering and analysis capabilities to stay ahead of evolving terrorist tactics.\n",
        "Utilize advanced data analytics, machine learning, and AI tools to identify patterns, trends, and potential threats.\n",
        "\n",
        "**Counter Explosive Threats:**\n",
        "\n",
        "Given that explosives are the predominant weapon used by terrorists, prioritize efforts to counter explosive threats.\n",
        "Develop and implement strategies for detecting, preventing, and mitigating explosive incidents, including the deployment of advanced screening technologies.\n",
        "\n",
        "**Yearly Threat Assessments:**\n",
        "\n",
        "Conduct yearly threat assessments to keep abreast of changes in terrorist activities.\n",
        "Use historical data to predict potential hotspots and allocate resources accordingly.\n",
        "\n",
        "**Targeted Counterterrorism Policies:**\n",
        "\n",
        "Tailor counterterrorism policies to protect private citizens and property, the primary targets identified in the analysis.\n",
        "Consider community engagement initiatives to build trust and cooperation with local populations.\n",
        "\n",
        "\n",
        "**Focus on Specific Terrorist Groups:**\n",
        "\n",
        "Given that the Taliban is identified as the most notorious group, focus efforts on understanding and countering their activities.\n",
        "Collaborate with international partners to share intelligence and coordinate efforts against such prominent groups.\n",
        "\n",
        "**Training and Capacity Building:**\n",
        "\n",
        "Invest in training programs and capacity building for local security forces to enhance their ability to respond effectively to terrorist threats.\n",
        "\n",
        "**Communication and Public Awareness:**\n",
        "\n",
        "Develop communication strategies to inform the public about potential threats and encourage vigilance.\n",
        "Establish channels for reporting suspicious activities and provide guidance on personal safety.\n",
        "\n",
        "**Continuous EDA and Adaptive Strategies:**\n",
        "\n",
        "Continue using Exploratory Data Analysis (EDA) to extract valuable insights.\n",
        "Develop adaptive strategies based on real-time analysis and regularly reassess the effectiveness of implemented measures.\n",
        "\n",
        "**Global Collaboration:**\n",
        "\n",
        "Engage in global collaborations and information-sharing networks to strengthen the collective response to terrorism.\n",
        "Stay informed about international efforts and contribute to a unified approach against terrorism.\n",
        "Remember, these suggestions are broad and should be adapted to the specific context and nuances of each region. Regularly reassessing the situation and adjusting strategies accordingly will be crucial for success."
      ],
      "metadata": {
        "id": "pASKb0qOza21"
      }
    },
    {
      "cell_type": "markdown",
      "source": [
        "# **Conclusion**"
      ],
      "metadata": {
        "id": "gCX9965dhzqZ"
      }
    },
    {
      "cell_type": "markdown",
      "source": [
        "In summary, we've explored different forms of analysis and engaged in question-and-answer sessions with a dataset that piqued my interest. I'd like to highlight something valuable I've discovered. When we merely glance at a dataset, all we can discern is the column information and its contents. Therefore, Exploratory Data Analysis (EDA) proves to be an incredibly effective method to simplify our tasks. Thanks to Python libraries such as pandas, numpy, matplotlib, seaborn, and plotly, we're equipped to draw conclusions, perform calculations, and create visualizations, greatly enhancing our analytical capabilities.\n",
        "\n",
        "\n",
        "Based on the preceding analysis, we can draw the following conclusions:\n",
        "* Iraq ranks highest in the number of attacks.\n",
        "* The Middle and East Africa region experiences the highest number of attacks.\n",
        "* The predominant weapon employed by terrorists is explosives.\n",
        "* Within the analysis, it is evident that in 2014, Iraq witnessed the highest level of terrorist activities.\n",
        "* Private citizens and property emerge as the primary targets of terrorist activities.\n",
        "* The most prevalent methods in terrorism activities involve bombing and explosions.\n",
        "* The Taliban stands out as the most notorious group, having been involved in the highest number of terrorist activities."
      ],
      "metadata": {
        "id": "Fjb1IsQkh3yE"
      }
    },
    {
      "cell_type": "markdown",
      "source": [
        "***Robust security measures should be provided to countries such as Iraq, Pakistan, Afghanistan, and India, as well as to regions in the Middle East and cities like Baghdad, Karachi, Lima, and numerous others.***\n",
        "\n",
        "***Precautions must be taken concerning explosive devices, as bombings and explosions are the most frequently utilized weapons by terrorists.***\n",
        "\n",
        "***Effective security should be extended to safeguard private citizens, property, the military, police, and other entities, as they represent the primary targets of terrorism.***"
      ],
      "metadata": {
        "id": "uHV7eUZUJE9u"
      }
    },
    {
      "cell_type": "markdown",
      "source": [
        "### ***Hurrah! You have successfully completed your EDA Capstone Project !!!***"
      ],
      "metadata": {
        "id": "gIfDvo9L0UH2"
      }
    }
  ]
}